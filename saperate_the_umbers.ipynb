{
 "cells": [
  {
   "cell_type": "code",
   "execution_count": 18,
   "id": "fc34217b",
   "metadata": {},
   "outputs": [
    {
     "name": "stdout",
     "output_type": "stream",
     "text": [
      "['9', '1', '0', '1', '1']\n"
     ]
    }
   ],
   "source": [
    "import re\n",
    "a = 91011\n",
    "b = []\n",
    "mat = re.finditer('[0-9]',str(a))\n",
    "for i in mat:\n",
    "    b.append(i.group())\n",
    "print(b)\n",
    "    \n",
    "for i in range(len(b)):\n",
    "    if b[i]>b[i+1]:\n",
    "        ''.join(b[])"
   ]
  },
  {
   "cell_type": "code",
   "execution_count": null,
   "id": "506d1734",
   "metadata": {},
   "outputs": [],
   "source": [
    "a = 91011\n",
    "if len(a) == 1:\n",
    "    print('NO')\n",
    "else:\n",
    "    if "
   ]
  }
 ],
 "metadata": {
  "kernelspec": {
   "display_name": "Python 3 (ipykernel)",
   "language": "python",
   "name": "python3"
  },
  "language_info": {
   "codemirror_mode": {
    "name": "ipython",
    "version": 3
   },
   "file_extension": ".py",
   "mimetype": "text/x-python",
   "name": "python",
   "nbconvert_exporter": "python",
   "pygments_lexer": "ipython3",
   "version": "3.9.12"
  }
 },
 "nbformat": 4,
 "nbformat_minor": 5
}
