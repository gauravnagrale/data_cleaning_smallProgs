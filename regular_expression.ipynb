{
 "cells": [
  {
   "cell_type": "code",
   "execution_count": 6,
   "id": "a345a142",
   "metadata": {},
   "outputs": [
    {
     "name": "stdout",
     "output_type": "stream",
     "text": [
      "start index:17,end_index:19,value:<built-in method group of re.Match object at 0x0000020D20CDC180>  \n",
      "start index:40,end_index:42,value:<built-in method group of re.Match object at 0x0000020D20C34DC0>  \n",
      "start index:48,end_index:50,value:<built-in method group of re.Match object at 0x0000020D20C34AB0>  \n",
      "3\n"
     ]
    }
   ],
   "source": [
    "import re\n",
    "gd = 'Python is a oop language.Python is also an fun language'\n",
    "pd = 'an'\n",
    "mat = re.finditer(pd,gd)\n",
    "count = 0\n",
    "for i in mat:\n",
    "    print('start index:{},end_index:{},value:{}  '.format(i.start(),i.end(),i.group))\n",
    "    count += 1\n",
    "print(count)"
   ]
  },
  {
   "cell_type": "code",
   "execution_count": 8,
   "id": "0a86d904",
   "metadata": {},
   "outputs": [
    {
     "name": "stdout",
     "output_type": "stream",
     "text": [
      "we found it\n"
     ]
    }
   ],
   "source": [
    "import re\n",
    "gd = 'Python is oop language.Java is also an fun language'\n",
    "pd = 'Java'\n",
    "mat = re.search(pd,gd)\n",
    "if mat !=None:\n",
    "    print('we found it')\n",
    "else:\n",
    "    print('we did not find it')"
   ]
  },
  {
   "cell_type": "code",
   "execution_count": 13,
   "id": "00c5124e",
   "metadata": {},
   "outputs": [
    {
     "name": "stdout",
     "output_type": "stream",
     "text": [
      "start_inex:0 ,end_index:1 ,value:A \n",
      "start_inex:19 ,end_index:20 ,value:B \n",
      "start_inex:22 ,end_index:23 ,value:C \n"
     ]
    }
   ],
   "source": [
    "#searching for A,B,C\n",
    "import re\n",
    "mat = re.finditer('[ABC]',\"AaK6#c&qpTL%c@Du9^!BbJC\")\n",
    "for i in mat:\n",
    "    print('start_inex:{} ,end_index:{} ,value:{} '.format(i.start(),i.end(),i.group()))"
   ]
  },
  {
   "cell_type": "code",
   "execution_count": 24,
   "id": "843696b5",
   "metadata": {},
   "outputs": [
    {
     "name": "stdout",
     "output_type": "stream",
     "text": [
      "the values are:A the values are:K the values are:6 the values are:# the values are:& the values are:q the values are:p the values are:T the values are:L the values are:% the values are:@ the values are:D the values are:u the values are:9 the values are:^ the values are:! the values are:B the values are:J 18\n"
     ]
    }
   ],
   "source": [
    "import re\n",
    "count =0\n",
    "mat = re.finditer('[^abc]',\"AaK6#c&qpTL%c@Du9^!BbJ\")\n",
    "for i in mat:\n",
    "    print('the values are:{}'.format(i.group()),end = \" \")\n",
    "    count += 1\n",
    "print(count)"
   ]
  },
  {
   "cell_type": "code",
   "execution_count": 27,
   "id": "92f98c15",
   "metadata": {},
   "outputs": [
    {
     "name": "stdout",
     "output_type": "stream",
     "text": [
      "the value is: a\n",
      "the value is: c\n",
      "the value is: q\n",
      "the value is: p\n",
      "the value is: c\n",
      "the value is: u\n",
      "the value is: b\n"
     ]
    }
   ],
   "source": [
    "mat = re.finditer('[a-z]',\"AaK6#c&qpTL%c@Du9^!BbJ\")\n",
    "for i in mat:\n",
    "    print('the value is:',i.group())"
   ]
  },
  {
   "cell_type": "code",
   "execution_count": 28,
   "id": "369f2d58",
   "metadata": {},
   "outputs": [
    {
     "name": "stdout",
     "output_type": "stream",
     "text": [
      "the values are: 6\n",
      "the values are: #\n",
      "the values are: &\n",
      "the values are: %\n",
      "the values are: @\n",
      "the values are: 9\n",
      "the values are: ^\n",
      "the values are: !\n"
     ]
    }
   ],
   "source": [
    "mat = re.finditer('[^a-zA-Z]',\"AaK6#c&qpTL%c@Du9^!BbJ\")\n",
    "for i in mat:\n",
    "    print('the values are:',i.group())\n",
    "    "
   ]
  },
  {
   "cell_type": "code",
   "execution_count": 29,
   "id": "938c7759",
   "metadata": {},
   "outputs": [
    {
     "name": "stdout",
     "output_type": "stream",
     "text": [
      "the values are:#\n",
      "the values are:&\n",
      "the values are:%\n",
      "the values are:@\n",
      "the values are:!\n"
     ]
    }
   ],
   "source": [
    "import re\n",
    "mat = re.finditer('[^a-zA-z0-9]',\"AaK6#c&qpTL%c@Du9^!BbJ\")\n",
    "for i in mat:\n",
    "    print('the values are:{}'.format(i.group()))"
   ]
  },
  {
   "cell_type": "code",
   "execution_count": 31,
   "id": "59d37bb2",
   "metadata": {},
   "outputs": [
    {
     "name": "stdout",
     "output_type": "stream",
     "text": [
      "the values are:6\n",
      "the values are:9\n"
     ]
    }
   ],
   "source": [
    "mat = re.finditer('[0-9]',\"AaK6#c&qpTL%c@Du9^!BbJ\")\n",
    "for i in mat:\n",
    "    print('the values are:{}'.format(i.group()))"
   ]
  },
  {
   "cell_type": "code",
   "execution_count": 34,
   "id": "44a920ed",
   "metadata": {},
   "outputs": [
    {
     "name": "stdout",
     "output_type": "stream",
     "text": [
      "the value that we need to find g\n",
      "the value that we need to find a\n",
      "the value that we need to find u\n",
      "the value that we need to find r\n",
      "the value that we need to find a\n",
      "the value that we need to find v\n",
      "the value that we need to find u\n",
      "the value that we need to find g\n",
      "the value that we need to find r\n",
      "the value that we need to find a\n",
      "the value that we need to find a\n",
      "the value that we need to find a\n",
      "the value that we need to find g\n",
      "the value that we need to find a\n",
      "the value that we need to find u\n",
      "the value that we need to find r\n",
      "the value that we need to find a\n",
      "the value that we need to find v\n",
      "the value that we need to find a\n",
      "the value that we need to find a\n"
     ]
    }
   ],
   "source": [
    "mat = re.finditer('[\"gaurav\"]','gaurav is studying in hyderabad,and gaurav is a bad boy')\n",
    "for i in mat:\n",
    "    print('the value that we need to find',i.group())"
   ]
  },
  {
   "cell_type": "code",
   "execution_count": 36,
   "id": "feb60a49",
   "metadata": {},
   "outputs": [
    {
     "name": "stdout",
     "output_type": "stream",
     "text": [
      "#\n",
      "&\n",
      "%\n",
      "@\n",
      "^\n",
      "!\n"
     ]
    }
   ],
   "source": [
    "mat = re.finditer('\\w',\"AaK6#c&qpTL%c@Du9^!BbJ\")#search only for the wors charecters\n",
    "for i in mat:\n",
    "    print(i.group())\n"
   ]
  },
  {
   "cell_type": "code",
   "execution_count": 37,
   "id": "6f390b5c",
   "metadata": {},
   "outputs": [
    {
     "name": "stdout",
     "output_type": "stream",
     "text": [
      "#\n",
      "&\n",
      "%\n",
      "@\n",
      "^\n",
      "!\n"
     ]
    }
   ],
   "source": [
    "mat = re.finditer('\\W',\"AaK6#c&qpTL%c@Du9^!BbJ\") #search only for the special charecters\n",
    "for i in mat:\n",
    "    print(i.group())"
   ]
  },
  {
   "cell_type": "code",
   "execution_count": 38,
   "id": "03cedc2a",
   "metadata": {},
   "outputs": [
    {
     "name": "stdout",
     "output_type": "stream",
     "text": [
      "6\n",
      "9\n"
     ]
    }
   ],
   "source": [
    "mat = re.finditer('\\d',\"AaK6#c&qpTL%c@Du9^!BbJ\") #search only for the numerical charecters\n",
    "for i in mat:\n",
    "    print(i.group())"
   ]
  },
  {
   "cell_type": "code",
   "execution_count": 39,
   "id": "ab2aed01",
   "metadata": {},
   "outputs": [
    {
     "name": "stdout",
     "output_type": "stream",
     "text": [
      "A\n",
      "a\n",
      "K\n",
      "#\n",
      "c\n",
      "&\n",
      "q\n",
      "p\n",
      "T\n",
      "L\n",
      "%\n",
      "c\n",
      "@\n",
      "D\n",
      "u\n",
      "^\n",
      "!\n",
      "B\n",
      "b\n",
      "J\n"
     ]
    }
   ],
   "source": [
    "mat = re.finditer('\\D',\"AaK6#c&qpTL%c@Du9^!BbJ\") #except numbers we will get all the charecters charecters\n",
    "for i in mat:\n",
    "    print(i.group())"
   ]
  },
  {
   "cell_type": "code",
   "execution_count": 45,
   "id": "6243dc58",
   "metadata": {},
   "outputs": [
    {
     "name": "stdout",
     "output_type": "stream",
     "text": [
      "S\n",
      "a\n",
      "v\n",
      "e\n",
      "T\n",
      "h\n",
      "e\n",
      "W\n",
      "o\n",
      "r\n",
      "d\n",
      "s\n",
      "B\n",
      "y\n",
      "M\n",
      "e\n",
      "16\n"
     ]
    }
   ],
   "source": [
    "count = 0\n",
    "mat = re.finditer('\\S',\"SaveTheWordsByMe\") #counting the numbers of spaces\n",
    "for i in mat:\n",
    "    print(i.group())\n",
    "    count += 1\n",
    "print(count)"
   ]
  },
  {
   "cell_type": "code",
   "execution_count": null,
   "id": "f86dec8c",
   "metadata": {},
   "outputs": [],
   "source": []
  }
 ],
 "metadata": {
  "kernelspec": {
   "display_name": "Python 3 (ipykernel)",
   "language": "python",
   "name": "python3"
  },
  "language_info": {
   "codemirror_mode": {
    "name": "ipython",
    "version": 3
   },
   "file_extension": ".py",
   "mimetype": "text/x-python",
   "name": "python",
   "nbconvert_exporter": "python",
   "pygments_lexer": "ipython3",
   "version": "3.9.12"
  }
 },
 "nbformat": 4,
 "nbformat_minor": 5
}
